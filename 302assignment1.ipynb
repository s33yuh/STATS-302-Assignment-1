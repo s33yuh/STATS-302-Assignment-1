{
 "cells": [
  {
   "cell_type": "code",
   "execution_count": 2,
   "id": "17ce5cb6-5faa-4906-9042-98bb024a7976",
   "metadata": {
    "tags": []
   },
   "outputs": [],
   "source": [
    "import pandas as pd\n",
    "import numpy as np\n",
    "import matplotlib.pyplot as plt\n",
    "%matplotlib inline\n",
    "import os\n",
    "import math"
   ]
  },
  {
   "cell_type": "code",
   "execution_count": 3,
   "id": "ebaec0cf-9e84-4b92-baed-00e0b1cfbbe3",
   "metadata": {
    "tags": []
   },
   "outputs": [
    {
     "data": {
      "text/html": [
       "<div>\n",
       "<style scoped>\n",
       "    .dataframe tbody tr th:only-of-type {\n",
       "        vertical-align: middle;\n",
       "    }\n",
       "\n",
       "    .dataframe tbody tr th {\n",
       "        vertical-align: top;\n",
       "    }\n",
       "\n",
       "    .dataframe thead th {\n",
       "        text-align: right;\n",
       "    }\n",
       "</style>\n",
       "<table border=\"1\" class=\"dataframe\">\n",
       "  <thead>\n",
       "    <tr style=\"text-align: right;\">\n",
       "      <th></th>\n",
       "      <th>Participant</th>\n",
       "      <th>Meal</th>\n",
       "      <th>Time</th>\n",
       "      <th>X4.aminobutanoate</th>\n",
       "      <th>L.Leucine</th>\n",
       "      <th>Uridine</th>\n",
       "      <th>X1.Methylpyrrolinium</th>\n",
       "      <th>Acetylcholine</th>\n",
       "      <th>L.Proline</th>\n",
       "      <th>Succinic.acid</th>\n",
       "      <th>...</th>\n",
       "      <th>gamma.Aminobutyric.acid</th>\n",
       "      <th>X2.Hydroxypyridine</th>\n",
       "      <th>Imidazole</th>\n",
       "      <th>Glycine</th>\n",
       "      <th>Pyridoxamine</th>\n",
       "      <th>Urea</th>\n",
       "      <th>Lysophospholipids</th>\n",
       "      <th>Lysophospho.lipids..odd.chains.</th>\n",
       "      <th>Lysophospho.lipids..even.chains.</th>\n",
       "      <th>Phosphatidyl.glycerol..odd.chain.</th>\n",
       "    </tr>\n",
       "  </thead>\n",
       "  <tbody>\n",
       "    <tr>\n",
       "      <th>0</th>\n",
       "      <td>SC4203</td>\n",
       "      <td>B</td>\n",
       "      <td>120</td>\n",
       "      <td>8.380051</td>\n",
       "      <td>15.462580</td>\n",
       "      <td>10.164953</td>\n",
       "      <td>9.888994</td>\n",
       "      <td>12.154044</td>\n",
       "      <td>9.274081</td>\n",
       "      <td>9.122323</td>\n",
       "      <td>...</td>\n",
       "      <td>11.820377</td>\n",
       "      <td>12.205821</td>\n",
       "      <td>9.500767</td>\n",
       "      <td>11.723448</td>\n",
       "      <td>10.467882</td>\n",
       "      <td>13.955726</td>\n",
       "      <td>15.239961</td>\n",
       "      <td>12.803325</td>\n",
       "      <td>15.148443</td>\n",
       "      <td>14.277567</td>\n",
       "    </tr>\n",
       "    <tr>\n",
       "      <th>1</th>\n",
       "      <td>SC4203</td>\n",
       "      <td>B</td>\n",
       "      <td>240</td>\n",
       "      <td>8.459977</td>\n",
       "      <td>14.854934</td>\n",
       "      <td>10.833474</td>\n",
       "      <td>9.847255</td>\n",
       "      <td>12.171617</td>\n",
       "      <td>8.673345</td>\n",
       "      <td>9.132028</td>\n",
       "      <td>...</td>\n",
       "      <td>11.870657</td>\n",
       "      <td>12.276642</td>\n",
       "      <td>9.540442</td>\n",
       "      <td>11.715136</td>\n",
       "      <td>10.414267</td>\n",
       "      <td>13.773704</td>\n",
       "      <td>15.341479</td>\n",
       "      <td>13.413980</td>\n",
       "      <td>15.184226</td>\n",
       "      <td>14.484717</td>\n",
       "    </tr>\n",
       "    <tr>\n",
       "      <th>2</th>\n",
       "      <td>DL4204</td>\n",
       "      <td>A</td>\n",
       "      <td>30</td>\n",
       "      <td>8.603734</td>\n",
       "      <td>14.921948</td>\n",
       "      <td>11.528331</td>\n",
       "      <td>10.231741</td>\n",
       "      <td>12.012944</td>\n",
       "      <td>9.028306</td>\n",
       "      <td>9.298341</td>\n",
       "      <td>...</td>\n",
       "      <td>12.470798</td>\n",
       "      <td>11.976179</td>\n",
       "      <td>9.561585</td>\n",
       "      <td>11.448104</td>\n",
       "      <td>10.795886</td>\n",
       "      <td>13.848846</td>\n",
       "      <td>16.116893</td>\n",
       "      <td>13.749212</td>\n",
       "      <td>16.018510</td>\n",
       "      <td>14.696149</td>\n",
       "    </tr>\n",
       "    <tr>\n",
       "      <th>3</th>\n",
       "      <td>SC4203</td>\n",
       "      <td>C</td>\n",
       "      <td>120</td>\n",
       "      <td>8.637349</td>\n",
       "      <td>16.209471</td>\n",
       "      <td>10.130751</td>\n",
       "      <td>10.972812</td>\n",
       "      <td>12.376531</td>\n",
       "      <td>10.834322</td>\n",
       "      <td>9.313805</td>\n",
       "      <td>...</td>\n",
       "      <td>12.375098</td>\n",
       "      <td>11.991221</td>\n",
       "      <td>9.498650</td>\n",
       "      <td>11.470929</td>\n",
       "      <td>11.290929</td>\n",
       "      <td>14.136059</td>\n",
       "      <td>15.494890</td>\n",
       "      <td>11.956027</td>\n",
       "      <td>15.465414</td>\n",
       "      <td>13.992957</td>\n",
       "    </tr>\n",
       "    <tr>\n",
       "      <th>4</th>\n",
       "      <td>SC4203</td>\n",
       "      <td>A</td>\n",
       "      <td>120</td>\n",
       "      <td>8.646877</td>\n",
       "      <td>14.870384</td>\n",
       "      <td>11.329650</td>\n",
       "      <td>9.971513</td>\n",
       "      <td>12.359129</td>\n",
       "      <td>8.536425</td>\n",
       "      <td>8.978340</td>\n",
       "      <td>...</td>\n",
       "      <td>12.044756</td>\n",
       "      <td>12.063596</td>\n",
       "      <td>9.419683</td>\n",
       "      <td>11.678734</td>\n",
       "      <td>10.518652</td>\n",
       "      <td>13.768024</td>\n",
       "      <td>15.665191</td>\n",
       "      <td>13.518768</td>\n",
       "      <td>15.540872</td>\n",
       "      <td>14.360866</td>\n",
       "    </tr>\n",
       "  </tbody>\n",
       "</table>\n",
       "<p>5 rows × 55 columns</p>\n",
       "</div>"
      ],
      "text/plain": [
       "  Participant Meal  Time  X4.aminobutanoate  L.Leucine    Uridine   \n",
       "0      SC4203    B   120           8.380051  15.462580  10.164953  \\\n",
       "1      SC4203    B   240           8.459977  14.854934  10.833474   \n",
       "2      DL4204    A    30           8.603734  14.921948  11.528331   \n",
       "3      SC4203    C   120           8.637349  16.209471  10.130751   \n",
       "4      SC4203    A   120           8.646877  14.870384  11.329650   \n",
       "\n",
       "   X1.Methylpyrrolinium  Acetylcholine  L.Proline  Succinic.acid  ...   \n",
       "0              9.888994      12.154044   9.274081       9.122323  ...  \\\n",
       "1              9.847255      12.171617   8.673345       9.132028  ...   \n",
       "2             10.231741      12.012944   9.028306       9.298341  ...   \n",
       "3             10.972812      12.376531  10.834322       9.313805  ...   \n",
       "4              9.971513      12.359129   8.536425       8.978340  ...   \n",
       "\n",
       "   gamma.Aminobutyric.acid  X2.Hydroxypyridine  Imidazole    Glycine   \n",
       "0                11.820377           12.205821   9.500767  11.723448  \\\n",
       "1                11.870657           12.276642   9.540442  11.715136   \n",
       "2                12.470798           11.976179   9.561585  11.448104   \n",
       "3                12.375098           11.991221   9.498650  11.470929   \n",
       "4                12.044756           12.063596   9.419683  11.678734   \n",
       "\n",
       "   Pyridoxamine       Urea  Lysophospholipids   \n",
       "0     10.467882  13.955726          15.239961  \\\n",
       "1     10.414267  13.773704          15.341479   \n",
       "2     10.795886  13.848846          16.116893   \n",
       "3     11.290929  14.136059          15.494890   \n",
       "4     10.518652  13.768024          15.665191   \n",
       "\n",
       "   Lysophospho.lipids..odd.chains.  Lysophospho.lipids..even.chains.   \n",
       "0                        12.803325                         15.148443  \\\n",
       "1                        13.413980                         15.184226   \n",
       "2                        13.749212                         16.018510   \n",
       "3                        11.956027                         15.465414   \n",
       "4                        13.518768                         15.540872   \n",
       "\n",
       "   Phosphatidyl.glycerol..odd.chain.  \n",
       "0                          14.277567  \n",
       "1                          14.484717  \n",
       "2                          14.696149  \n",
       "3                          13.992957  \n",
       "4                          14.360866  \n",
       "\n",
       "[5 rows x 55 columns]"
      ]
     },
     "execution_count": 3,
     "metadata": {},
     "output_type": "execute_result"
    }
   ],
   "source": [
    "metab_df = pd.read_csv(\"metab-selected.csv\")\n",
    "metab_df.head()"
   ]
  },
  {
   "cell_type": "code",
   "execution_count": 14,
   "id": "1346d749-e14c-4494-9e3a-023211f67b2a",
   "metadata": {
    "tags": []
   },
   "outputs": [
    {
     "name": "stdout",
     "output_type": "stream",
     "text": [
      "Index(['X4.aminobutanoate', 'L.Leucine', 'Uridine', 'X1.Methylpyrrolinium',\n",
      "       'Acetylcholine', 'L.Proline', 'Succinic.acid', 'Uric.acid',\n",
      "       'L.Arginine', 'L.Tryptophan', 'X2.3.4.5.6.7.Hexahydroxyheptanoic.acid',\n",
      "       'X1.Methylnicotinamide', 'X3.Hexenedioic.acid', 'L.Phenylalanine',\n",
      "       'cis.Aconitic.acid', 'Citric.acid', 'Isocitric.acid',\n",
      "       'Aspartyl.L.proline', 'Pyroglutamic.acid', 'L.Glutamic.acid',\n",
      "       'L.Lysine', 'L.Methionine', 'L.Histidine', 'Methionine.sulfoxide',\n",
      "       'Citrulline', 'N2.gamma.Glutamylglutamine', 'DOPA.sulfate', 'acetate',\n",
      "       'Ornithine', 'L.Isoleucine', 'Imidazolelactic.acid', 'L.Tyrosine',\n",
      "       'N.Acetylglutamine', 'Asymmetric.dimethylarginine', 'Silicic.acid',\n",
      "       'X3.Furoic.acid', 'Cytosine', 'Pipecolic.acid_2', 'L.Asparagine',\n",
      "       'L.Cystine', 'Imidazolone', 'L.Serine', 'gamma.Aminobutyric.acid',\n",
      "       'X2.Hydroxypyridine', 'Imidazole', 'Glycine', 'Pyridoxamine', 'Urea',\n",
      "       'Lysophospholipids', 'Lysophospho.lipids..odd.chains.',\n",
      "       'Lysophospho.lipids..even.chains.',\n",
      "       'Phosphatidyl.glycerol..odd.chain.'],\n",
      "      dtype='object')\n"
     ]
    }
   ],
   "source": [
    "features = metab_df.iloc[:,3:].columns\n",
    "print(features)"
   ]
  },
  {
   "cell_type": "code",
   "execution_count": 15,
   "id": "5cb9aeb4-851d-4293-bb1d-d876ae41b779",
   "metadata": {
    "tags": []
   },
   "outputs": [
    {
     "data": {
      "text/plain": [
       "(358, 55)"
      ]
     },
     "execution_count": 15,
     "metadata": {},
     "output_type": "execute_result"
    }
   ],
   "source": [
    "metab_df.shape"
   ]
  },
  {
   "cell_type": "code",
   "execution_count": 16,
   "id": "3030084b-f332-4991-8738-7bc9b8b1d86d",
   "metadata": {
    "tags": []
   },
   "outputs": [],
   "source": [
    "from sklearn.preprocessing import StandardScaler\n",
    "x = metab_df.loc[:, features]\n",
    "x = StandardScaler().fit_transform(x)    # normalise features"
   ]
  },
  {
   "cell_type": "code",
   "execution_count": 17,
   "id": "1f4bff15-cb8a-4bff-8cb2-75d0b6896f38",
   "metadata": {
    "tags": []
   },
   "outputs": [
    {
     "data": {
      "text/plain": [
       "(4.992425324313553e-16, 1.0)"
      ]
     },
     "execution_count": 17,
     "metadata": {},
     "output_type": "execute_result"
    }
   ],
   "source": [
    "x.shape\n",
    "np.mean(x), np.std(x)"
   ]
  },
  {
   "cell_type": "code",
   "execution_count": 18,
   "id": "999970b2-6386-44cf-9352-dbd96a421d55",
   "metadata": {
    "tags": []
   },
   "outputs": [],
   "source": [
    "from sklearn.decomposition import PCA\n",
    "pca_metab = PCA(n_components=2)\n",
    "principalComponent_metab = pca_metab.fit_transform(x)"
   ]
  },
  {
   "cell_type": "code",
   "execution_count": 19,
   "id": "12fef5ed-3bda-4d97-9038-637d0f44f4c6",
   "metadata": {
    "tags": []
   },
   "outputs": [],
   "source": [
    "pc_metab_df = pd.DataFrame(data = principalComponent_metab, columns = ['Principal Component 1',  'Principal Component 2'])"
   ]
  },
  {
   "cell_type": "code",
   "execution_count": 20,
   "id": "1dc9d98e-f1a1-4331-a6a6-7cee407a71aa",
   "metadata": {
    "tags": []
   },
   "outputs": [
    {
     "data": {
      "text/html": [
       "<div>\n",
       "<style scoped>\n",
       "    .dataframe tbody tr th:only-of-type {\n",
       "        vertical-align: middle;\n",
       "    }\n",
       "\n",
       "    .dataframe tbody tr th {\n",
       "        vertical-align: top;\n",
       "    }\n",
       "\n",
       "    .dataframe thead th {\n",
       "        text-align: right;\n",
       "    }\n",
       "</style>\n",
       "<table border=\"1\" class=\"dataframe\">\n",
       "  <thead>\n",
       "    <tr style=\"text-align: right;\">\n",
       "      <th></th>\n",
       "      <th>Principal Component 1</th>\n",
       "      <th>Principal Component 2</th>\n",
       "    </tr>\n",
       "  </thead>\n",
       "  <tbody>\n",
       "    <tr>\n",
       "      <th>0</th>\n",
       "      <td>-4.064781</td>\n",
       "      <td>5.099295</td>\n",
       "    </tr>\n",
       "    <tr>\n",
       "      <th>1</th>\n",
       "      <td>-5.775566</td>\n",
       "      <td>4.394725</td>\n",
       "    </tr>\n",
       "    <tr>\n",
       "      <th>2</th>\n",
       "      <td>-2.835825</td>\n",
       "      <td>-2.359503</td>\n",
       "    </tr>\n",
       "    <tr>\n",
       "      <th>3</th>\n",
       "      <td>4.915625</td>\n",
       "      <td>5.512339</td>\n",
       "    </tr>\n",
       "    <tr>\n",
       "      <th>4</th>\n",
       "      <td>-4.559072</td>\n",
       "      <td>1.125551</td>\n",
       "    </tr>\n",
       "  </tbody>\n",
       "</table>\n",
       "</div>"
      ],
      "text/plain": [
       "   Principal Component 1  Principal Component 2\n",
       "0              -4.064781               5.099295\n",
       "1              -5.775566               4.394725\n",
       "2              -2.835825              -2.359503\n",
       "3               4.915625               5.512339\n",
       "4              -4.559072               1.125551"
      ]
     },
     "execution_count": 20,
     "metadata": {},
     "output_type": "execute_result"
    }
   ],
   "source": [
    "pc_metab_df.head()"
   ]
  },
  {
   "cell_type": "code",
   "execution_count": 21,
   "id": "8674e9ca-ea01-46c3-b469-b1af30537fa0",
   "metadata": {
    "tags": []
   },
   "outputs": [
    {
     "name": "stdout",
     "output_type": "stream",
     "text": [
      "Explained variance per principle component: [0.29430262 0.09459795]\n"
     ]
    }
   ],
   "source": [
    "print(\"Explained variance per principle component: {}\".format(pca_metab.explained_variance_ratio_))"
   ]
  },
  {
   "cell_type": "code",
   "execution_count": 22,
   "id": "197decdf-61fa-4d0f-b8ca-1bae10345179",
   "metadata": {},
   "outputs": [
    {
     "data": {
      "text/plain": [
       "<matplotlib.legend.Legend at 0x1783665f690>"
      ]
     },
     "execution_count": 22,
     "metadata": {},
     "output_type": "execute_result"
    },
    {
     "data": {
      "text/plain": [
       "<Figure size 640x480 with 0 Axes>"
      ]
     },
     "metadata": {},
     "output_type": "display_data"
    },
    {
     "data": {
      "image/png": "[encoded data removed]",
      "text/plain": [
       "<Figure size 1000x1000 with 1 Axes>"
      ]
     },
     "metadata": {},
     "output_type": "display_data"
    }
   ],
   "source": [
    "plt.figure()\n",
    "plt.figure(figsize=(10,10))\n",
    "plt.xticks(fontsize=12)\n",
    "plt.yticks(fontsize=14)\n",
    "plt.xlabel(\"Principal Component 1\", fontsize = 20)\n",
    "plt.ylabel(\"Principal Component 2\", fontsize = 20)\n",
    "plt.title(\"Principal Components Analysis of Metabolite Data\", fontsize = 20)\n",
    "meals = ['A', 'B', 'C']\n",
    "colours = ['r', 'g', 'b']\n",
    "\n",
    "for meal, colour in zip(meals, colours):\n",
    "    meal_indices = metab_df[\"Meal\"] == meal\n",
    "    plt.scatter(pc_metab_df.loc[meal_indices, 'Principal Component 1']\n",
    "                , pc_metab_df.loc[meal_indices, 'Principal Component 2'], c = colour, s = 50)\n",
    "\n",
    "\n",
    "plt.legend(meals, prop = {'size': 15})"
   ]
  },
  {
   "cell_type": "code",
   "execution_count": 47,
   "id": "f9071b6d-a125-4389-ba04-bc32f5e6369f",
   "metadata": {},
   "outputs": [
    {
     "data": {
      "text/plain": [
       "[2.109936592077372,\n",
       " 2.073460958395361,\n",
       " 2.066500816778475,\n",
       " 2.0439614414969265,\n",
       " 2.012526194454612,\n",
       " 1.8966113578570067,\n",
       " 1.834310961499444,\n",
       " 1.82401605170175,\n",
       " 1.8037481316039745,\n",
       " 1.779797005823184,\n",
       " 1.7625782619815769,\n",
       " 1.7277702046171295,\n",
       " 1.5974317513120417,\n",
       " 1.5851960151640707,\n",
       " 1.568158691335572,\n",
       " 1.492932437201208,\n",
       " 1.4746436316419116,\n",
       " 1.3730065225342174,\n",
       " 1.3696301164000593,\n",
       " 1.3582803935585386,\n",
       " 1.104143614877926,\n",
       " 1.0927168223553292,\n",
       " 0.999275104896566,\n",
       " 0.6698326102646216,\n",
       " 0.6470530312509726,\n",
       " 0.6245504124928443,\n",
       " 0.6021062364560212,\n",
       " 0.5344489275396087,\n",
       " 0.4190084626559198,\n",
       " 0.413543021309829,\n",
       " 0.35106246512787576,\n",
       " 0.32092561159002325,\n",
       " 0.27812828695949154,\n",
       " 0.2187838248148623,\n",
       " 0.18426187411204464,\n",
       " 0.09445788711574553,\n",
       " 0.04059018802699729,\n",
       " 0.03583977653944289,\n",
       " -0.055921548608298455,\n",
       " -0.1246481749054736,\n",
       " -0.1577453404146028,\n",
       " -0.17962615671493276,\n",
       " -0.1891496864761808,\n",
       " -0.30799004645760214,\n",
       " -0.3444858047871504,\n",
       " -0.3455431051922998,\n",
       " -0.3586151499111265,\n",
       " -0.777604629037813,\n",
       " -0.9822045433229505,\n",
       " -1.1223269111408063,\n",
       " -1.1861056484693377,\n",
       " -1.2505050642571232]"
      ]
     },
     "execution_count": 47,
     "metadata": {},
     "output_type": "execute_result"
    }
   ],
   "source": [
    "# Finding correlation between PCA Component 1 and features\n",
    "sorted(pca_metab.components_[0, :] * math.sqrt(pca_metab.singular_values_[0]), reverse = True)\n",
    "#sorted(pca_metab.components_[0, :], reverse=True)\n",
    "\n"
   ]
  },
  {
   "cell_type": "code",
   "execution_count": 43,
   "id": "2b9b9ef7-e081-42c0-9fa2-fe8600d5a966",
   "metadata": {},
   "outputs": [
    {
     "data": {
      "text/plain": [
       "2.2179028802907927"
      ]
     },
     "execution_count": 43,
     "metadata": {},
     "output_type": "execute_result"
    }
   ],
   "source": [
    "np.std(principalComponent_metab[:,1])"
   ]
  },
  {
   "cell_type": "code",
   "execution_count": 50,
   "id": "c7819ac8-f765-429c-9a72-daca74123ffe",
   "metadata": {},
   "outputs": [
    {
     "data": {
      "text/plain": [
       "8.603400171439791"
      ]
     },
     "execution_count": 50,
     "metadata": {},
     "output_type": "execute_result"
    }
   ],
   "source": [
    "math.sqrt(pca_metab.singular_values_[0])"
   ]
  },
  {
   "cell_type": "code",
   "execution_count": null,
   "id": "b33b8e1d-3a7d-4813-b8fc-7dc5db7a92ba",
   "metadata": {},
   "outputs": [],
   "source": []
  }
 ],
 "metadata": {
  "kernelspec": {
   "display_name": "Python 3 (ipykernel)",
   "language": "python",
   "name": "python3"
  },
  "language_info": {
   "codemirror_mode": {
    "name": "ipython",
    "version": 3
   },
   "file_extension": ".py",
   "mimetype": "text/x-python",
   "name": "python",
   "nbconvert_exporter": "python",
   "pygments_lexer": "ipython3",
   "version": "3.11.2"
  }
 },
 "nbformat": 4,
 "nbformat_minor": 5
}
